{
 "metadata": {
  "language_info": {
   "codemirror_mode": {
    "name": "ipython",
    "version": 3
   },
   "file_extension": ".py",
   "mimetype": "text/x-python",
   "name": "python",
   "nbconvert_exporter": "python",
   "pygments_lexer": "ipython3",
   "version": "3.7.10"
  },
  "orig_nbformat": 4,
  "kernelspec": {
   "name": "python3",
   "display_name": "Python 3.7.10 64-bit ('snmCAT': conda)"
  },
  "interpreter": {
   "hash": "807d4507b9f880005b3c0ac5c6ba24f3f83473ca1ef7effff68cd77cfbddb89a"
  }
 },
 "nbformat": 4,
 "nbformat_minor": 2,
 "cells": [
  {
   "cell_type": "code",
   "execution_count": 1,
   "source": [
    "from timebudget import timebudget\n",
    "import numpy as np\n",
    "import torch\n",
    "\n",
    "from cplAE_snmCAT.models.torch_cplAE import Model_TE\n",
    "from cplAE_snmCAT.utils.load_config import load_config\n",
    "from cplAE_snmCAT.utils.proc import get_splits, select_dataset_v2\n",
    "from cplAE_snmCAT.models.torch_cplAE import tonumpy, tensor_\n",
    "from functools import partial\n",
    "\n",
    "device='cpu'\n",
    "astensor = partial(tensor_,device=device)"
   ],
   "outputs": [],
   "metadata": {}
  },
  {
   "cell_type": "code",
   "execution_count": 2,
   "source": [
    "paths = load_config(verbose=False)\n",
    "#Data selection===================\n",
    "n_genes = 1000\n",
    "data = select_dataset_v2(n_genes,\n",
    "                        select_T='sorted_highvar_T_genes',\n",
    "                        select_E='sorted_highvar_E_genes')\n",
    "train_ind, val_ind = get_splits(data=data, fold=0, n_folds=10)\n",
    "splits = {'train_ind': train_ind, 'val_ind': val_ind}"
   ],
   "outputs": [],
   "metadata": {}
  },
  {
   "cell_type": "code",
   "execution_count": 3,
   "source": [
    "fname = 'Sep23_aT_1-0_aE_1-0_csTE_1-0_ad_1_ld_2_bs_500_ne_5000_out_1_ri_0_exit_weights.pt'\n",
    "saved_weights_path = paths['package_dir'] / 'data/results/v2' / fname"
   ],
   "outputs": [],
   "metadata": {}
  },
  {
   "cell_type": "code",
   "execution_count": 4,
   "source": [
    "store = torch.load(saved_weights_path, map_location=device)\n",
    "model = Model_TE(**store['hparams'])\n",
    "model.load_state_dict(store['model_state_dict'])\n",
    "model.eval()\n",
    "\n",
    "with timebudget('prediction'):\n",
    "    with torch.no_grad():\n",
    "        model.eval()\n",
    "        zT, zE, XrT, XrE, _ = model((astensor(data['XT']), astensor(data['XE'])))\n",
    "\n",
    "zT = tonumpy(zT)\n",
    "zE = tonumpy(zE)\n",
    "XrT = tonumpy(XrT)\n",
    "XrE = tonumpy(XrE)"
   ],
   "outputs": [
    {
     "output_type": "stream",
     "name": "stdout",
     "text": [
      "prediction took 103.69ms\n"
     ]
    }
   ],
   "metadata": {}
  }
 ]
}